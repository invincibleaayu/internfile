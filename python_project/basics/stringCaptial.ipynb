{
 "cells": [
  {
   "cell_type": "code",
   "execution_count": 44,
   "id": "fa3d766b",
   "metadata": {},
   "outputs": [
    {
     "name": "stdout",
     "output_type": "stream",
     "text": [
      "Enter your Name : my name is aaayush DIo giri and I love math\n"
     ]
    }
   ],
   "source": [
    "your_Name= input(\"Enter your Name : \")"
   ]
  },
  {
   "cell_type": "code",
   "execution_count": 45,
   "id": "f581afa0",
   "metadata": {},
   "outputs": [],
   "source": [
    "your_Namelist=(your_Name.lower()).split()"
   ]
  },
  {
   "cell_type": "code",
   "execution_count": 46,
   "id": "eec63b0f",
   "metadata": {},
   "outputs": [
    {
     "name": "stdout",
     "output_type": "stream",
     "text": [
      "['my', 'name', 'is', 'aaayush', 'dio', 'giri', 'and', 'i', 'love', 'math']\n"
     ]
    }
   ],
   "source": [
    "print(your_Namelist)"
   ]
  },
  {
   "cell_type": "code",
   "execution_count": 47,
   "id": "425f168e",
   "metadata": {},
   "outputs": [],
   "source": [
    "new_value = \"\"\n",
    "for value in your_Namelist:\n",
    "    new_value += value[0].upper() + value[1:-1] + value[-1].upper()+ \" \"\n",
    "    \n"
   ]
  },
  {
   "cell_type": "code",
   "execution_count": 48,
   "id": "93c2044f",
   "metadata": {},
   "outputs": [
    {
     "name": "stdout",
     "output_type": "stream",
     "text": [
      "MY NamE IS AaayusH DiO GirI AnD II LovE MatH \n"
     ]
    }
   ],
   "source": [
    "print(new_value)"
   ]
  },
  {
   "cell_type": "code",
   "execution_count": null,
   "id": "658e91c2",
   "metadata": {},
   "outputs": [],
   "source": []
  }
 ],
 "metadata": {
  "kernelspec": {
   "display_name": "Python 3 (ipykernel)",
   "language": "python",
   "name": "python3"
  },
  "language_info": {
   "codemirror_mode": {
    "name": "ipython",
    "version": 3
   },
   "file_extension": ".py",
   "mimetype": "text/x-python",
   "name": "python",
   "nbconvert_exporter": "python",
   "pygments_lexer": "ipython3",
   "version": "3.9.5"
  }
 },
 "nbformat": 4,
 "nbformat_minor": 5
}
