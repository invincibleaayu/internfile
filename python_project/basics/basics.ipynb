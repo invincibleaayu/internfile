{
 "cells": [
  {
   "cell_type": "markdown",
   "id": "9088f69c",
   "metadata": {},
   "source": [
    "# Writing program for module 3 and 4 "
   ]
  },
  {
   "cell_type": "code",
   "execution_count": 1,
   "id": "0788450d",
   "metadata": {},
   "outputs": [
    {
     "name": "stdout",
     "output_type": "stream",
     "text": [
      "Please enter the number you want to print:3\n"
     ]
    }
   ],
   "source": [
    "your_input = input(\"Please enter the number you want to print:\")"
   ]
  },
  {
   "cell_type": "code",
   "execution_count": 2,
   "id": "381bc3c7",
   "metadata": {},
   "outputs": [
    {
     "name": "stdout",
     "output_type": "stream",
     "text": [
      "<class 'str'>\n"
     ]
    }
   ],
   "source": [
    "print(type(your_input))"
   ]
  },
  {
   "cell_type": "code",
   "execution_count": 3,
   "id": "55991116",
   "metadata": {},
   "outputs": [
    {
     "name": "stdout",
     "output_type": "stream",
     "text": [
      "<class 'float'>\n"
     ]
    }
   ],
   "source": [
    "print(type(float(your_input)))"
   ]
  },
  {
   "cell_type": "code",
   "execution_count": 4,
   "id": "746e4a6f",
   "metadata": {},
   "outputs": [],
   "source": [
    "converted_your_input = int(your_input)"
   ]
  },
  {
   "cell_type": "code",
   "execution_count": 5,
   "id": "ac8971fa",
   "metadata": {},
   "outputs": [
    {
     "name": "stdout",
     "output_type": "stream",
     "text": [
      "<class 'int'>\n"
     ]
    }
   ],
   "source": [
    "print(type(converted_your_input))"
   ]
  },
  {
   "cell_type": "markdown",
   "id": "55c0f2f4",
   "metadata": {},
   "source": [
    "## Here we have taken the user input which is by default a string and we converted the input to the interger format using typecasting. We have used printed both imput type using python default type() method "
   ]
  },
  {
   "cell_type": "markdown",
   "id": "232060bd",
   "metadata": {},
   "source": [
    "## We are now going to perform the urnary operations "
   ]
  },
  {
   "cell_type": "code",
   "execution_count": 6,
   "id": "b8fc0f0e",
   "metadata": {},
   "outputs": [],
   "source": [
    "converted_your_input += 1"
   ]
  },
  {
   "cell_type": "code",
   "execution_count": 7,
   "id": "30e64ef1",
   "metadata": {},
   "outputs": [
    {
     "name": "stdout",
     "output_type": "stream",
     "text": [
      "4\n"
     ]
    }
   ],
   "source": [
    "print(converted_your_input)"
   ]
  },
  {
   "cell_type": "code",
   "execution_count": 8,
   "id": "41ff9e55",
   "metadata": {},
   "outputs": [],
   "source": [
    "new_value = converted_your_input+(converted_your_input*converted_your_input)-converted_your_input"
   ]
  },
  {
   "cell_type": "code",
   "execution_count": 9,
   "id": "ecf0f585",
   "metadata": {},
   "outputs": [
    {
     "name": "stdout",
     "output_type": "stream",
     "text": [
      "16\n"
     ]
    }
   ],
   "source": [
    "print(new_value)"
   ]
  },
  {
   "cell_type": "markdown",
   "id": "53cc4c67",
   "metadata": {},
   "source": [
    "Here we can see the operator precedence"
   ]
  },
  {
   "cell_type": "markdown",
   "id": "f9b1388b",
   "metadata": {},
   "source": [
    "# We are writing program for modulde 5\n",
    "\n"
   ]
  },
  {
   "cell_type": "markdown",
   "id": "649f04c4",
   "metadata": {},
   "source": [
    "we are starting the concept with slicing"
   ]
  },
  {
   "cell_type": "code",
   "execution_count": 10,
   "id": "5e63f537",
   "metadata": {},
   "outputs": [
    {
     "name": "stdout",
     "output_type": "stream",
     "text": [
      "Please enter your name \tAayush Dip Giri\n"
     ]
    }
   ],
   "source": [
    "my_name = input(\"Please enter your name \\t\")"
   ]
  },
  {
   "cell_type": "code",
   "execution_count": 11,
   "id": "fc5574dd",
   "metadata": {},
   "outputs": [
    {
     "data": {
      "text/plain": [
       "'iriG piD hsuyaA'"
      ]
     },
     "execution_count": 11,
     "metadata": {},
     "output_type": "execute_result"
    }
   ],
   "source": [
    "my_name[::-1] ##reversing the list"
   ]
  },
  {
   "cell_type": "code",
   "execution_count": 12,
   "id": "5c337721",
   "metadata": {},
   "outputs": [
    {
     "data": {
      "text/plain": [
       "'Aayush'"
      ]
     },
     "execution_count": 12,
     "metadata": {},
     "output_type": "execute_result"
    }
   ],
   "source": [
    "my_name[:6]    ## taking the first name only "
   ]
  },
  {
   "cell_type": "code",
   "execution_count": 13,
   "id": "6c89f339",
   "metadata": {},
   "outputs": [
    {
     "data": {
      "text/plain": [
       "'Dip'"
      ]
     },
     "execution_count": 13,
     "metadata": {},
     "output_type": "execute_result"
    }
   ],
   "source": [
    "my_name[7:10]  ## taking middle name only"
   ]
  },
  {
   "cell_type": "code",
   "execution_count": 14,
   "id": "27e29265",
   "metadata": {},
   "outputs": [
    {
     "data": {
      "text/plain": [
       "'Giri'"
      ]
     },
     "execution_count": 14,
     "metadata": {},
     "output_type": "execute_result"
    }
   ],
   "source": [
    "my_name[-4:]  ## taking the last name only"
   ]
  },
  {
   "cell_type": "code",
   "execution_count": 15,
   "id": "6a5b459c",
   "metadata": {},
   "outputs": [],
   "source": [
    "## We can convert the string to list using list function"
   ]
  },
  {
   "cell_type": "code",
   "execution_count": 16,
   "id": "f2ef7779",
   "metadata": {},
   "outputs": [],
   "source": [
    "my_name_list = list(my_name)"
   ]
  },
  {
   "cell_type": "code",
   "execution_count": 17,
   "id": "21a9e79f",
   "metadata": {},
   "outputs": [
    {
     "data": {
      "text/plain": [
       "['A', 'a', 'y', 'u', 's', 'h', ' ', 'D', 'i', 'p', ' ', 'G', 'i', 'r', 'i']"
      ]
     },
     "execution_count": 17,
     "metadata": {},
     "output_type": "execute_result"
    }
   ],
   "source": [
    "my_name_list"
   ]
  },
  {
   "cell_type": "code",
   "execution_count": 18,
   "id": "900e9919",
   "metadata": {},
   "outputs": [],
   "source": [
    "my_name_list.append(\"value\")"
   ]
  },
  {
   "cell_type": "code",
   "execution_count": 19,
   "id": "7015257d",
   "metadata": {},
   "outputs": [
    {
     "name": "stdout",
     "output_type": "stream",
     "text": [
      "['A', 'a', 'y', 'u', 's', 'h', ' ', 'D', 'i', 'p', ' ', 'G', 'i', 'r', 'i', 'value']\n"
     ]
    }
   ],
   "source": [
    "print(my_name_list)"
   ]
  },
  {
   "cell_type": "code",
   "execution_count": 20,
   "id": "7d46d02b",
   "metadata": {},
   "outputs": [],
   "source": [
    "my_name_list.insert(1,\"value1\") ## inserting value at position "
   ]
  },
  {
   "cell_type": "code",
   "execution_count": 21,
   "id": "b76348a6",
   "metadata": {},
   "outputs": [
    {
     "name": "stdout",
     "output_type": "stream",
     "text": [
      "['A', 'value1', 'a', 'y', 'u', 's', 'h', ' ', 'D', 'i', 'p', ' ', 'G', 'i', 'r', 'i', 'value']\n"
     ]
    }
   ],
   "source": [
    "print(my_name_list)"
   ]
  },
  {
   "cell_type": "code",
   "execution_count": 22,
   "id": "2b98e156",
   "metadata": {},
   "outputs": [
    {
     "data": {
      "text/plain": [
       "'value1'"
      ]
     },
     "execution_count": 22,
     "metadata": {},
     "output_type": "execute_result"
    }
   ],
   "source": [
    "my_name_list.pop(1)"
   ]
  },
  {
   "cell_type": "markdown",
   "id": "9eab52dd",
   "metadata": {},
   "source": [
    "### Here in the above code we have performed the concept of slicing and typecasted the string your_name to list. In that list we have performed the list function application. The function like append, insert and pop are used in the program."
   ]
  },
  {
   "cell_type": "code",
   "execution_count": 23,
   "id": "5d6e7397",
   "metadata": {},
   "outputs": [
    {
     "name": "stdout",
     "output_type": "stream",
     "text": [
      "['A', 'a', 'y', 'u', 's', 'h', ' ', 'D', 'i', 'p', ' ', 'G', 'i', 'r', 'i', 'value']\n"
     ]
    }
   ],
   "source": [
    "print(my_name_list)  ## Here we have popped the element at position 1\n"
   ]
  },
  {
   "cell_type": "markdown",
   "id": "99d12b7c",
   "metadata": {},
   "source": [
    "## Now we are going to write a program to create a list of list"
   ]
  },
  {
   "cell_type": "code",
   "execution_count": 24,
   "id": "cc72ca96",
   "metadata": {},
   "outputs": [],
   "source": [
    "new_list = []\n",
    "temp_list = []\n",
    "for element in my_name_list:\n",
    "    if element != ' ':\n",
    "        temp_list.append(element)\n",
    "    else:\n",
    "        new_list.append(temp_list)\n",
    "        temp_list = []\n",
    "        \n",
    "new_list.append(temp_list)"
   ]
  },
  {
   "cell_type": "code",
   "execution_count": 25,
   "id": "0f29ea40",
   "metadata": {},
   "outputs": [
    {
     "name": "stdout",
     "output_type": "stream",
     "text": [
      "[['A', 'a', 'y', 'u', 's', 'h'], ['D', 'i', 'p'], ['G', 'i', 'r', 'i', 'value']]\n"
     ]
    }
   ],
   "source": [
    "print(new_list)"
   ]
  },
  {
   "cell_type": "markdown",
   "id": "d5595d48",
   "metadata": {},
   "source": [
    "## Now we will write a program to access element of the list of list"
   ]
  },
  {
   "cell_type": "code",
   "execution_count": 26,
   "id": "71db6f0d",
   "metadata": {},
   "outputs": [
    {
     "name": "stdout",
     "output_type": "stream",
     "text": [
      "value\n"
     ]
    }
   ],
   "source": [
    "print(new_list[2][4]) ## accessing the last value of list of list of third index ie \"Value\""
   ]
  },
  {
   "cell_type": "markdown",
   "id": "daec401f",
   "metadata": {},
   "source": [
    "## Now we will learn about the dictionary and tuples"
   ]
  },
  {
   "cell_type": "markdown",
   "id": "c2dd0250",
   "metadata": {},
   "source": [
    "## The main difference between list and tuple is that tuple is immutable where as list is mutable "
   ]
  },
  {
   "cell_type": "code",
   "execution_count": 27,
   "id": "1829366b",
   "metadata": {},
   "outputs": [],
   "source": [
    "new_tuple = tuple(new_list[0])"
   ]
  },
  {
   "cell_type": "code",
   "execution_count": 28,
   "id": "dfbd3c25",
   "metadata": {},
   "outputs": [
    {
     "name": "stdout",
     "output_type": "stream",
     "text": [
      "('A', 'a', 'y', 'u', 's', 'h')\n"
     ]
    }
   ],
   "source": [
    "\n",
    "print (new_tuple)"
   ]
  },
  {
   "cell_type": "markdown",
   "id": "5bfe7e31",
   "metadata": {},
   "source": [
    "## Using exceptional handling to show that the tuple object is Immutable "
   ]
  },
  {
   "cell_type": "code",
   "execution_count": 29,
   "id": "4c6e9e3a",
   "metadata": {},
   "outputs": [
    {
     "name": "stdout",
     "output_type": "stream",
     "text": [
      "Attribute error occoured\n",
      "Tuble object is Immutable\n"
     ]
    }
   ],
   "source": [
    "\n",
    "try:\n",
    "    new_tuple.pop(1)\n",
    "except AttributeError:\n",
    "    print(\"Attribute error occoured\")\n",
    "    print(\"Tuble object is Immutable\")"
   ]
  },
  {
   "cell_type": "markdown",
   "id": "e31a5244",
   "metadata": {},
   "source": [
    "## Now we will study about the dictionary"
   ]
  },
  {
   "cell_type": "code",
   "execution_count": 30,
   "id": "9f1b6717",
   "metadata": {},
   "outputs": [],
   "source": [
    "my_profile = {\n",
    "    \"name\" : \"Aayush Dip Giri\",\n",
    "    \"college\" : \"Kathmandu University\",\n",
    "    \"degree\" : \"Computer Science\"\n",
    "}"
   ]
  },
  {
   "cell_type": "code",
   "execution_count": 31,
   "id": "a8c0c04f",
   "metadata": {},
   "outputs": [
    {
     "name": "stdout",
     "output_type": "stream",
     "text": [
      "Aayush Dip Giri\n"
     ]
    }
   ],
   "source": [
    "print(my_profile[\"name\"])"
   ]
  },
  {
   "cell_type": "code",
   "execution_count": 32,
   "id": "80e8db52",
   "metadata": {},
   "outputs": [
    {
     "data": {
      "text/plain": [
       "dict_values(['Aayush Dip Giri', 'Kathmandu University', 'Computer Science'])"
      ]
     },
     "execution_count": 32,
     "metadata": {},
     "output_type": "execute_result"
    }
   ],
   "source": [
    "my_profile.values()"
   ]
  },
  {
   "cell_type": "code",
   "execution_count": 33,
   "id": "22c26135",
   "metadata": {},
   "outputs": [
    {
     "data": {
      "text/plain": [
       "dict_keys(['name', 'college', 'degree'])"
      ]
     },
     "execution_count": 33,
     "metadata": {},
     "output_type": "execute_result"
    }
   ],
   "source": [
    "my_profile.keys()"
   ]
  },
  {
   "cell_type": "markdown",
   "id": "b62832c1",
   "metadata": {},
   "source": [
    "## Now I will write a program to display each content of dictionary and will show different output"
   ]
  },
  {
   "cell_type": "code",
   "execution_count": 34,
   "id": "a671e058",
   "metadata": {},
   "outputs": [
    {
     "name": "stdout",
     "output_type": "stream",
     "text": [
      "My name is  Aayush Dip Giri\n",
      "My college name is Kathmandu University\n",
      "I study Computer Science\n"
     ]
    }
   ],
   "source": [
    "count = 0\n",
    "for value in my_profile.values():\n",
    "    if count == 0:\n",
    "        print(\"My name is  {}\".format(value))\n",
    "        count += 1\n",
    "    elif count == 1:\n",
    "        print(\"My college name is {}\".format(value))\n",
    "        count += 1  \n",
    "    else:\n",
    "        print(\"I study {}\".format(value))\n",
    "        "
   ]
  },
  {
   "cell_type": "markdown",
   "id": "9a34a841",
   "metadata": {},
   "source": [
    "## Now we will study the use of sets. Sets are used to provent the duplicate items in an array like structure"
   ]
  },
  {
   "cell_type": "code",
   "execution_count": 35,
   "id": "bfe50418",
   "metadata": {},
   "outputs": [
    {
     "name": "stdout",
     "output_type": "stream",
     "text": [
      "['A', 'a', 'y', 'u', 's', 'h', ' ', 'D', 'i', 'p', ' ', 'G', 'i', 'r', 'i', 'value']\n"
     ]
    }
   ],
   "source": [
    "print(my_name_list)"
   ]
  },
  {
   "cell_type": "markdown",
   "id": "34ac613d",
   "metadata": {},
   "source": [
    "## We use set() method to convert our array to the set"
   ]
  },
  {
   "cell_type": "code",
   "execution_count": 36,
   "id": "a3bb58f3",
   "metadata": {},
   "outputs": [
    {
     "name": "stdout",
     "output_type": "stream",
     "text": [
      "{'A', 'i', 'a', 'D', 'y', 'h', 'r', 'value', 'u', ' ', 'G', 's', 'p'}\n"
     ]
    }
   ],
   "source": [
    "print(set(my_name_list))"
   ]
  },
  {
   "cell_type": "markdown",
   "id": "bede7cc5",
   "metadata": {},
   "source": [
    "## Here we can see all the duplicate abjects like \"a\" has been removed"
   ]
  },
  {
   "cell_type": "markdown",
   "id": "b4c1838d",
   "metadata": {},
   "source": [
    "# Module 6 : Python Flow Control"
   ]
  },
  {
   "cell_type": "markdown",
   "id": "2d000fcf",
   "metadata": {},
   "source": [
    "## For this module we are going to write a program that will cover all the required section and make use of mentioned submodule"
   ]
  },
  {
   "cell_type": "code",
   "execution_count": 37,
   "id": "5141516c",
   "metadata": {},
   "outputs": [
    {
     "name": "stdout",
     "output_type": "stream",
     "text": [
      "My name is  Aayush Dip Giri\n",
      "My college name is Kathmandu University\n",
      "I study Computer Science\n"
     ]
    }
   ],
   "source": [
    "count = 0\n",
    "for value in my_profile.values():\n",
    "    if count == 0:\n",
    "        print(\"My name is  {}\".format(value))\n",
    "        count += 1\n",
    "    elif count == 1:\n",
    "        print(\"My college name is {}\".format(value))\n",
    "        count += 1  \n",
    "    else:\n",
    "        print(\"I study {}\".format(value))"
   ]
  },
  {
   "cell_type": "markdown",
   "id": "469b1d6f",
   "metadata": {},
   "source": [
    "## Now we will write a program to show for loop and while loop"
   ]
  },
  {
   "cell_type": "code",
   "execution_count": 38,
   "id": "e5a1bc97",
   "metadata": {},
   "outputs": [
    {
     "name": "stdout",
     "output_type": "stream",
     "text": [
      "A\n",
      "y\n",
      "u\n",
      "s\n",
      "h\n",
      " \n",
      "D\n",
      "i\n",
      "p\n",
      " \n",
      "G\n",
      "i\n",
      "r\n",
      "i\n",
      "value\n"
     ]
    }
   ],
   "source": [
    "for value in my_name_list:\n",
    "    if value == 'a':\n",
    "        pass\n",
    "    else:\n",
    "        print(value)\n",
    "        "
   ]
  },
  {
   "cell_type": "markdown",
   "id": "ebb96a70",
   "metadata": {},
   "source": [
    "## Now we will make use of break and contiue"
   ]
  },
  {
   "cell_type": "code",
   "execution_count": 39,
   "id": "8b37de56",
   "metadata": {},
   "outputs": [
    {
     "name": "stdout",
     "output_type": "stream",
     "text": [
      "A\n",
      "a\n",
      "y\n",
      "u\n",
      "s\n",
      "h\n"
     ]
    }
   ],
   "source": [
    "for value in my_name_list:\n",
    "    if value == ' ':\n",
    "        break\n",
    "    else:\n",
    "        print(value)\n"
   ]
  },
  {
   "cell_type": "markdown",
   "id": "e876400e",
   "metadata": {},
   "source": [
    "## Now we will make use of continue"
   ]
  },
  {
   "cell_type": "code",
   "execution_count": 40,
   "id": "1931e5ab",
   "metadata": {},
   "outputs": [
    {
     "name": "stdout",
     "output_type": "stream",
     "text": [
      "A\n",
      "a\n",
      "y\n",
      "u\n",
      "s\n",
      "h\n",
      "D\n",
      "i\n",
      "p\n",
      "G\n",
      "i\n",
      "r\n",
      "i\n",
      "value\n"
     ]
    }
   ],
   "source": [
    "for value in my_name_list:\n",
    "    if value == ' ':\n",
    "        continue\n",
    "    else:\n",
    "        print(value)"
   ]
  },
  {
   "cell_type": "markdown",
   "id": "02fe54e5",
   "metadata": {},
   "source": [
    "## Now we will make use of list comprehension to remove all the space element from the list"
   ]
  },
  {
   "cell_type": "code",
   "execution_count": 41,
   "id": "53599594",
   "metadata": {},
   "outputs": [
    {
     "name": "stdout",
     "output_type": "stream",
     "text": [
      "['A', 'a', 'y', 'u', 's', 'h', ' ', 'D', 'i', 'p', ' ', 'G', 'i', 'r', 'i', 'value']\n"
     ]
    }
   ],
   "source": [
    "print(my_name_list)"
   ]
  },
  {
   "cell_type": "code",
   "execution_count": 42,
   "id": "426f2e24",
   "metadata": {},
   "outputs": [],
   "source": [
    "updated_list = [value for value in my_name_list if value != ' ' ] ## list comprehension that removes space element"
   ]
  },
  {
   "cell_type": "code",
   "execution_count": 43,
   "id": "99ae1929",
   "metadata": {},
   "outputs": [
    {
     "name": "stdout",
     "output_type": "stream",
     "text": [
      "['A', 'a', 'y', 'u', 's', 'h', 'D', 'i', 'p', 'G', 'i', 'r', 'i', 'value']\n"
     ]
    }
   ],
   "source": [
    "print(updated_list)"
   ]
  },
  {
   "cell_type": "code",
   "execution_count": 44,
   "id": "b285e424",
   "metadata": {},
   "outputs": [
    {
     "data": {
      "text/plain": [
       "'value'"
      ]
     },
     "execution_count": 44,
     "metadata": {},
     "output_type": "execute_result"
    }
   ],
   "source": [
    "updated_list.pop(-1)"
   ]
  },
  {
   "cell_type": "code",
   "execution_count": 63,
   "id": "2a100012",
   "metadata": {},
   "outputs": [],
   "source": [
    "updated_list.extend([2,3,4,5,5])"
   ]
  },
  {
   "cell_type": "code",
   "execution_count": 64,
   "id": "26054d9d",
   "metadata": {},
   "outputs": [
    {
     "name": "stdout",
     "output_type": "stream",
     "text": [
      "['A', 'a', 'y', 'u', 's', 'h', 'D', 'i', 'p', 'G', 'i', 'r', 'i', 2, 3, 4, 5, 5, 2, 3, 4, 5, 5]\n"
     ]
    }
   ],
   "source": [
    "print(updated_list)"
   ]
  },
  {
   "cell_type": "markdown",
   "id": "708fa653",
   "metadata": {},
   "source": [
    "# Module 7: Introduction to Functions"
   ]
  },
  {
   "cell_type": "markdown",
   "id": "ec0801ea",
   "metadata": {},
   "source": [
    "## We will write two functions example here. Normal function and lambda function that is going to return the square of number given by user\n"
   ]
  },
  {
   "cell_type": "markdown",
   "id": "a3257de6",
   "metadata": {},
   "source": [
    "### Normal function with parameter"
   ]
  },
  {
   "cell_type": "code",
   "execution_count": 46,
   "id": "1192733d",
   "metadata": {},
   "outputs": [],
   "source": [
    "def calculate_square(value):\n",
    "    return value ** 2"
   ]
  },
  {
   "cell_type": "markdown",
   "id": "88ed8a1c",
   "metadata": {},
   "source": [
    "### lambda function"
   ]
  },
  {
   "cell_type": "code",
   "execution_count": 47,
   "id": "73636c1f",
   "metadata": {},
   "outputs": [],
   "source": [
    "lambda_square = lambda value : value ** 2"
   ]
  },
  {
   "cell_type": "code",
   "execution_count": 48,
   "id": "46512285",
   "metadata": {},
   "outputs": [
    {
     "name": "stdout",
     "output_type": "stream",
     "text": [
      "Enter the number you want to calculate square of 3\n"
     ]
    }
   ],
   "source": [
    "user_input = int(input(\"Enter the number you want to calculate square of \"))"
   ]
  },
  {
   "cell_type": "markdown",
   "id": "4c3cd176",
   "metadata": {},
   "source": [
    "### Value printed using normal function"
   ]
  },
  {
   "cell_type": "code",
   "execution_count": 49,
   "id": "51d232a7",
   "metadata": {},
   "outputs": [
    {
     "name": "stdout",
     "output_type": "stream",
     "text": [
      "The square of 3 is 9.\n"
     ]
    }
   ],
   "source": [
    "print(\"The square of {} is {}.\".format(user_input, calculate_square(user_input)))"
   ]
  },
  {
   "cell_type": "markdown",
   "id": "19c5a9e0",
   "metadata": {},
   "source": [
    "### Value printed using lambda function "
   ]
  },
  {
   "cell_type": "code",
   "execution_count": 50,
   "id": "be3446f1",
   "metadata": {},
   "outputs": [
    {
     "name": "stdout",
     "output_type": "stream",
     "text": [
      "The square of 3 is 9.\n"
     ]
    }
   ],
   "source": [
    "print(\"The square of {} is {}.\".format(user_input, lambda_square(user_input)))"
   ]
  },
  {
   "cell_type": "markdown",
   "id": "67d2ce54",
   "metadata": {},
   "source": [
    "### Now we will see the use of global, local and non-local variable"
   ]
  },
  {
   "cell_type": "markdown",
   "id": "4f7d4df1",
   "metadata": {},
   "source": [
    "### Global and Local variable"
   ]
  },
  {
   "cell_type": "code",
   "execution_count": 51,
   "id": "4f593363",
   "metadata": {},
   "outputs": [
    {
     "name": "stdout",
     "output_type": "stream",
     "text": [
      "Local :  I am local value\n",
      "Global :  Hello, I am global value\n"
     ]
    }
   ],
   "source": [
    "# declare global variable\n",
    "global_value = 'Hello, I am global value'\n",
    "\n",
    "def greet():\n",
    "    # declare local variable\n",
    "    local_value = \"I am local value\"\n",
    "    print('Local : ', local_value)\n",
    "\n",
    "greet()\n",
    "print('Global : ', global_value)"
   ]
  },
  {
   "cell_type": "code",
   "execution_count": 52,
   "id": "a86d06ee",
   "metadata": {},
   "outputs": [
    {
     "ename": "NameError",
     "evalue": "name 'local_value' is not defined",
     "output_type": "error",
     "traceback": [
      "\u001b[1;31m---------------------------------------------------------------------------\u001b[0m",
      "\u001b[1;31mNameError\u001b[0m                                 Traceback (most recent call last)",
      "Cell \u001b[1;32mIn[52], line 1\u001b[0m\n\u001b[1;32m----> 1\u001b[0m \u001b[38;5;28mprint\u001b[39m(\u001b[43mlocal_value\u001b[49m)\n",
      "\u001b[1;31mNameError\u001b[0m: name 'local_value' is not defined"
     ]
    }
   ],
   "source": [
    "print(local_value)"
   ]
  },
  {
   "cell_type": "markdown",
   "id": "5450756b",
   "metadata": {},
   "source": [
    "### The error is generated because it is local value and it cannot be accessed outside the greet function"
   ]
  },
  {
   "cell_type": "markdown",
   "id": "e1c30dd0",
   "metadata": {},
   "source": [
    "### Non-local variable"
   ]
  },
  {
   "cell_type": "code",
   "execution_count": 53,
   "id": "c2a1712a",
   "metadata": {},
   "outputs": [
    {
     "name": "stdout",
     "output_type": "stream",
     "text": [
      "inner: Non local\n",
      "outer: Non local\n"
     ]
    }
   ],
   "source": [
    "def outer():\n",
    "    variable = \"Local\"\n",
    "    def inner():\n",
    "        nonlocal variable\n",
    "        variable = \"Non local\"\n",
    "        print(\"inner:\", variable)\n",
    "    inner()\n",
    "    print(\"outer:\", variable)\n",
    "outer() "
   ]
  },
  {
   "cell_type": "markdown",
   "id": "5d6409ec",
   "metadata": {},
   "source": [
    "### If we change the value of a nonlocal variable, the changes appear in the local variable."
   ]
  },
  {
   "cell_type": "markdown",
   "id": "2bea5c42",
   "metadata": {},
   "source": [
    "## we are going to see the example of recursive function"
   ]
  },
  {
   "cell_type": "code",
   "execution_count": 54,
   "id": "7186d099",
   "metadata": {},
   "outputs": [],
   "source": [
    "def recursion_func(value):\n",
    "    if value == 0:\n",
    "        return 1\n",
    "    else:\n",
    "        output_value = value * recursion_func(value-1)\n",
    "        return output_value "
   ]
  },
  {
   "cell_type": "code",
   "execution_count": 55,
   "id": "068a3cb8",
   "metadata": {},
   "outputs": [
    {
     "data": {
      "text/plain": [
       "5040"
      ]
     },
     "execution_count": 55,
     "metadata": {},
     "output_type": "execute_result"
    }
   ],
   "source": [
    "recursion_func(7)"
   ]
  },
  {
   "cell_type": "markdown",
   "id": "91c26ffc",
   "metadata": {},
   "source": [
    "# Module 8: File Handling, Exception Handling "
   ]
  },
  {
   "cell_type": "markdown",
   "id": "dbd005ee",
   "metadata": {},
   "source": [
    "## we are going to open an imagefile using cv2 file handling technique. I was trying to implement gaussian transition to the image below using Py tesseract"
   ]
  },
  {
   "cell_type": "code",
   "execution_count": 56,
   "id": "40245d29",
   "metadata": {},
   "outputs": [],
   "source": [
    "import cv2\n",
    "import matplotlib.pyplot as plt"
   ]
  },
  {
   "cell_type": "code",
   "execution_count": 57,
   "id": "1746adcf",
   "metadata": {},
   "outputs": [
    {
     "name": "stdout",
     "output_type": "stream",
     "text": [
      "[[[255 255 255]\n",
      "  [255 255 255]\n",
      "  [255 255 255]\n",
      "  ...\n",
      "  [255 255 255]\n",
      "  [255 255 255]\n",
      "  [255 255 255]]\n",
      "\n",
      " [[255 255 255]\n",
      "  [255 255 255]\n",
      "  [255 255 255]\n",
      "  ...\n",
      "  [255 255 255]\n",
      "  [255 255 255]\n",
      "  [255 255 255]]\n",
      "\n",
      " [[255 255 255]\n",
      "  [255 255 255]\n",
      "  [255 255 255]\n",
      "  ...\n",
      "  [255 255 255]\n",
      "  [255 255 255]\n",
      "  [255 255 255]]\n",
      "\n",
      " ...\n",
      "\n",
      " [[255 255 255]\n",
      "  [255 255 255]\n",
      "  [255 255 255]\n",
      "  ...\n",
      "  [255 255 255]\n",
      "  [255 255 255]\n",
      "  [255 255 255]]\n",
      "\n",
      " [[255 255 255]\n",
      "  [255 255 255]\n",
      "  [255 255 255]\n",
      "  ...\n",
      "  [255 255 255]\n",
      "  [255 255 255]\n",
      "  [255 255 255]]\n",
      "\n",
      " [[255 255 255]\n",
      "  [255 255 255]\n",
      "  [255 255 255]\n",
      "  ...\n",
      "  [255 255 255]\n",
      "  [255 255 255]\n",
      "  [255 255 255]]]\n"
     ]
    },
    {
     "data": {
      "text/plain": [
       "<matplotlib.image.AxesImage at 0x1c07ba86a30>"
      ]
     },
     "execution_count": 57,
     "metadata": {},
     "output_type": "execute_result"
    },
    {
     "data": {
      "image/png": "[encoded data removed]",
      "text/plain": [
       "<Figure size 1000x1000 with 1 Axes>"
      ]
     },
     "metadata": {},
     "output_type": "display_data"
    }
   ],
   "source": [
    "img = cv2.imread(\"./image/download.png\") ##this line here represents the file handling \n",
    "print(img)\n",
    "fig = plt.figure(figsize = [10,10])\n",
    "plt.imshow(img)"
   ]
  },
  {
   "cell_type": "markdown",
   "id": "4754e6c9",
   "metadata": {},
   "source": [
    "## Exception handling"
   ]
  },
  {
   "cell_type": "code",
   "execution_count": 59,
   "id": "de43a04b",
   "metadata": {},
   "outputs": [
    {
     "name": "stdout",
     "output_type": "stream",
     "text": [
      "Enter the number you want to calculate square \t4\n"
     ]
    }
   ],
   "source": [
    "input_val  = input(\"Enter the number you want to calculate square \\t\")"
   ]
  },
  {
   "cell_type": "code",
   "execution_count": 60,
   "id": "ca1b5463",
   "metadata": {},
   "outputs": [
    {
     "ename": "TypeError",
     "evalue": "unsupported operand type(s) for ** or pow(): 'str' and 'int'",
     "output_type": "error",
     "traceback": [
      "\u001b[1;31m---------------------------------------------------------------------------\u001b[0m",
      "\u001b[1;31mTypeError\u001b[0m                                 Traceback (most recent call last)",
      "Cell \u001b[1;32mIn[60], line 1\u001b[0m\n\u001b[1;32m----> 1\u001b[0m square \u001b[38;5;241m=\u001b[39m \u001b[43minput_val\u001b[49m\u001b[43m \u001b[49m\u001b[38;5;241;43m*\u001b[39;49m\u001b[38;5;241;43m*\u001b[39;49m\u001b[43m \u001b[49m\u001b[38;5;241;43m2\u001b[39;49m\n",
      "\u001b[1;31mTypeError\u001b[0m: unsupported operand type(s) for ** or pow(): 'str' and 'int'"
     ]
    }
   ],
   "source": [
    "square = input_val ** 2"
   ]
  },
  {
   "cell_type": "markdown",
   "id": "3ec7a0ec",
   "metadata": {},
   "source": [
    "### Here we can see the typeerror since the inout is always in string format in python"
   ]
  },
  {
   "cell_type": "markdown",
   "id": "87695d6d",
   "metadata": {},
   "source": [
    "### Performing Exceptional Handling"
   ]
  },
  {
   "cell_type": "code",
   "execution_count": 61,
   "id": "22d7c296",
   "metadata": {},
   "outputs": [
    {
     "name": "stdout",
     "output_type": "stream",
     "text": [
      "TypeError exception occoured\n",
      "Handling Exception ... \n",
      "\n",
      "The error has been handled successfully.\n",
      "Output ... \n",
      "\n",
      "The square number is 16.\n"
     ]
    }
   ],
   "source": [
    "try:\n",
    "    square = input_val ** 2\n",
    "except TypeError: ## catching exception of type conversion\n",
    "    print(\"TypeError exception occoured\")\n",
    "    print(\"Handling Exception ... \\n\")\n",
    "    square = int(input_val) ** 2\n",
    "finally:\n",
    "    print(\"The error has been handled successfully.\")\n",
    "    print(\"Output ... \\n\")\n",
    "    print(\"The square number is {}.\".format(square))"
   ]
  },
  {
   "cell_type": "markdown",
   "id": "91537db0",
   "metadata": {},
   "source": [
    "### User-Defined Exception"
   ]
  },
  {
   "cell_type": "code",
   "execution_count": 62,
   "id": "de51a909",
   "metadata": {},
   "outputs": [
    {
     "name": "stdout",
     "output_type": "stream",
     "text": [
      "Enter the age :thirty\n",
      "Please input the value in numeric form\n"
     ]
    }
   ],
   "source": [
    "class StringInputException(Exception):\n",
    "    \"Raised when input is in string format\"\n",
    "try:\n",
    "    try:\n",
    "        input_age = int(input(\"Enter the age :\"))\n",
    "        print(\"The square age number is {}.\".format(input_age**2))\n",
    "    except ValueError:\n",
    "        raise StringInputException\n",
    "        \n",
    "except StringInputException:\n",
    "    print(\"Please input the value in numeric form\")"
   ]
  },
  {
   "cell_type": "code",
   "execution_count": null,
   "id": "0abee71d",
   "metadata": {},
   "outputs": [],
   "source": []
  },
  {
   "cell_type": "markdown",
   "id": "d30ead82",
   "metadata": {},
   "source": [
    "# Module 10: Basic Introduction to Classes and Objects "
   ]
  },
  {
   "cell_type": "markdown",
   "id": "edf2ac5b",
   "metadata": {},
   "source": [
    "### In this section we are going to implement the concept of class and object that will cover inheritance, operator overloading   "
   ]
  },
  {
   "cell_type": "code",
   "execution_count": 65,
   "id": "fd6664d8",
   "metadata": {},
   "outputs": [
    {
     "name": "stdout",
     "output_type": "stream",
     "text": [
      "Enter side 1 : 3\n",
      "Enter side 2 : 3\n",
      "Enter side 3 : 3\n",
      "Side 1 is 3.0\n",
      "Side 2 is 3.0\n",
      "Side 3 is 3.0\n",
      "The area of the triangle is 3.90\n",
      "Enter length : 3\n",
      "Enter Breadth : 3\n",
      "Side 1 is 3.0\n",
      "Side 2 is 3.0\n",
      "The area of the rectangle is 9.00\n"
     ]
    }
   ],
   "source": [
    "class Polygon:\n",
    "    # This is equivalent to the constructor\n",
    "    def __init__(self, no_of_sides):\n",
    "        self.n = no_of_sides\n",
    "        self.sides = [0 for i in range(no_of_sides)]\n",
    "\n",
    "    def inputSides(self):\n",
    "        # We can use list comprehension for user input\n",
    "        self.sides = [float(input(\"Enter side \"+str(i+1)+\" : \")) for i in range(self.n)]\n",
    "\n",
    "    def dispSides(self):\n",
    "        for i in range(self.n):\n",
    "            print(\"Side\",i+1,\"is\",self.sides[i])\n",
    "\n",
    "class Triangle(Polygon):\n",
    "\n",
    "    def __init__(self):\n",
    "        Polygon.__init__(self,3)\n",
    "\n",
    "    def findArea(self):\n",
    "        a, b, c = self.sides\n",
    "\n",
    "        s = (a + b + c) / 2\n",
    "        area = (s*abs(s-a)*abs(s-b)*abs(s-c)) ** 0.5\n",
    "        print('The area of the triangle is %0.2f' %area)\n",
    "        \n",
    "class Rectangle(Polygon):\n",
    "    \n",
    "    def __init__(self):\n",
    "        Polygon.__init__(self,2)\n",
    "    # Here we have used the concept of polymorphism   \n",
    "    def inputSides(self):\n",
    "        # We can use list comprehension for user input\n",
    "        self.sides = [float(input(\"Enter length : \")) if i == 0 else float(input(\"Enter Breadth : \"))  for i in range(self.n)]\n",
    "        \n",
    "    def findArea(self):\n",
    "        a,b = self.sides\n",
    "        area = a*b\n",
    "        return print('The area of the rectangle is %0.2f' %area) \n",
    "\n",
    "t = Triangle()\n",
    "t.inputSides()\n",
    "t.dispSides()\n",
    "t.findArea()\n",
    "\n",
    "r = Rectangle()\n",
    "r.inputSides()\n",
    "r.dispSides()\n",
    "r.findArea()"
   ]
  },
  {
   "cell_type": "markdown",
   "id": "5ec86e70",
   "metadata": {},
   "source": [
    "### Operator overloading"
   ]
  },
  {
   "cell_type": "code",
   "execution_count": 75,
   "id": "a3ce7c0e",
   "metadata": {},
   "outputs": [],
   "source": [
    "class Name:\n",
    "    def __init__(self,first_name, middle_name, last_name):\n",
    "        self.first_name = first_name\n",
    "        self.middle_name = middle_name\n",
    "        self.last_name = last_name\n",
    "        \n",
    "    def __str__(self):\n",
    "        return \"({2},{0} {1})\".format(self.first_name, self.middle_name, self.last_name)\n",
    "    "
   ]
  },
  {
   "cell_type": "code",
   "execution_count": 76,
   "id": "2e8cb48b",
   "metadata": {},
   "outputs": [],
   "source": [
    "name_1 = Name(\"Aayush\",\"Dip\",\"Giri\")"
   ]
  },
  {
   "cell_type": "code",
   "execution_count": 77,
   "id": "245d8c62",
   "metadata": {},
   "outputs": [
    {
     "name": "stdout",
     "output_type": "stream",
     "text": [
      "(Giri,Aayush Dip)\n"
     ]
    }
   ],
   "source": [
    "#here we passed an object as an argument\n",
    "print(name_1) "
   ]
  },
  {
   "cell_type": "markdown",
   "id": "e56e3275",
   "metadata": {},
   "source": [
    "# Module 11: Iterators and Generators"
   ]
  },
  {
   "cell_type": "markdown",
   "id": "49c84edc",
   "metadata": {},
   "source": [
    "### Iterator are methods that iterate collections ike list, tuple, etc. using an iterator method, we can loop through an object and return its element."
   ]
  },
  {
   "cell_type": "code",
   "execution_count": 5,
   "id": "76adfe99",
   "metadata": {},
   "outputs": [],
   "source": [
    "iterator = iter([\"Aayush\", \"Dip\", \"Giri\"])"
   ]
  },
  {
   "cell_type": "code",
   "execution_count": 6,
   "id": "a865de35",
   "metadata": {},
   "outputs": [
    {
     "name": "stdout",
     "output_type": "stream",
     "text": [
      "Aayush is a good guy.\n",
      "His middle name is Dip\n",
      "His last name is Giri\n"
     ]
    }
   ],
   "source": [
    "print(\"{} is a good guy.\".format(next(iterator)))\n",
    "print(\"His middle name is {}\".format(next(iterator)))\n",
    "print(\"His last name is {}\".format(next(iterator)))"
   ]
  },
  {
   "cell_type": "markdown",
   "id": "12d81e46",
   "metadata": {},
   "source": [
    "### We can build a custon iterator according to our wish as well"
   ]
  },
  {
   "cell_type": "markdown",
   "id": "de1ca54b",
   "metadata": {},
   "source": [
    "### We will write a program to define the iterator that will generate all the even number while using next () function"
   ]
  },
  {
   "cell_type": "code",
   "execution_count": 25,
   "id": "eb893516",
   "metadata": {},
   "outputs": [
    {
     "name": "stdout",
     "output_type": "stream",
     "text": [
      "0\n",
      "2\n",
      "4\n",
      "6\n",
      "8\n",
      "10\n"
     ]
    },
    {
     "ename": "StopIteration",
     "evalue": "",
     "output_type": "error",
     "traceback": [
      "\u001b[1;31m---------------------------------------------------------------------------\u001b[0m",
      "\u001b[1;31mStopIteration\u001b[0m                             Traceback (most recent call last)",
      "Cell \u001b[1;32mIn[25], line 24\u001b[0m\n\u001b[0;32m     22\u001b[0m \u001b[38;5;28mprint\u001b[39m(\u001b[38;5;28mnext\u001b[39m(iterator))\n\u001b[0;32m     23\u001b[0m \u001b[38;5;28mprint\u001b[39m(\u001b[38;5;28mnext\u001b[39m(iterator))  \n\u001b[1;32m---> 24\u001b[0m \u001b[38;5;28mprint\u001b[39m(\u001b[38;5;28;43mnext\u001b[39;49m\u001b[43m(\u001b[49m\u001b[43miterator\u001b[49m\u001b[43m)\u001b[49m) \u001b[38;5;66;03m## we can see this line is raising the StopIteration error\u001b[39;00m\n",
      "Cell \u001b[1;32mIn[25], line 15\u001b[0m, in \u001b[0;36mGenerateEvenNumber.__next__\u001b[1;34m(self)\u001b[0m\n\u001b[0;32m     13\u001b[0m     \u001b[38;5;28;01mreturn\u001b[39;00m result\n\u001b[0;32m     14\u001b[0m \u001b[38;5;28;01melse\u001b[39;00m:\n\u001b[1;32m---> 15\u001b[0m     \u001b[38;5;28;01mraise\u001b[39;00m \u001b[38;5;167;01mStopIteration\u001b[39;00m\n",
      "\u001b[1;31mStopIteration\u001b[0m: "
     ]
    }
   ],
   "source": [
    "class GenerateEvenNumber:\n",
    "    \n",
    "    def __init__(self, max=0):\n",
    "        self.max = max\n",
    "     \n",
    "    def __iter__(self):\n",
    "        self.start = 0\n",
    "        return self\n",
    "    def __next__(self):\n",
    "        if self.start <= self.max and self.start % 2 == 0:\n",
    "            result= self.start\n",
    "            self.start += 2\n",
    "            return result\n",
    "        else:\n",
    "            raise StopIteration\n",
    "number = GenerateEvenNumber(10)\n",
    "iterator = iter(number)\n",
    "print(next(iterator))\n",
    "print(next(iterator))\n",
    "print(next(iterator))\n",
    "print(next(iterator))\n",
    "print(next(iterator))\n",
    "print(next(iterator))  \n",
    "print(next(iterator)) ## we can see this line is raising the StopIteration error"
   ]
  },
  {
   "cell_type": "markdown",
   "id": "5cd7389e",
   "metadata": {},
   "source": [
    "## Yield keyword\n",
    "\n",
    "### Yield keyword is used to create a generator function. A type of function that is memory efficient and can be used like an iterator object. we can use yield keyowrd when there is millions of data in the text file or our databases.\n"
   ]
  },
  {
   "cell_type": "code",
   "execution_count": 12,
   "id": "8b1b1f23",
   "metadata": {},
   "outputs": [
    {
     "name": "stdout",
     "output_type": "stream",
     "text": [
      "The original list is : [1, 4, 5, 6, 7]\n",
      "The even numbers in list are :  4 6 "
     ]
    }
   ],
   "source": [
    "# generator to print even numbers\n",
    "def print_even(test_list):\n",
    "    for i in test_list:\n",
    "        if i % 2 == 0:\n",
    "            yield i\n",
    " \n",
    "# initializing list\n",
    "test_list = [1, 4, 5, 6, 7]\n",
    " \n",
    "# printing initial list\n",
    "print(\"The original list is : \" + str(test_list))\n",
    " \n",
    "# printing even numbers\n",
    "print(\"The even numbers in list are : \", end=\" \")\n",
    "for j in print_even(test_list):\n",
    "    print(j, end=\" \")"
   ]
  },
  {
   "cell_type": "markdown",
   "id": "afaa3a09",
   "metadata": {},
   "source": [
    "## Generators\n",
    "\n",
    "### In Python, a generator is a function that returns an iterator that produces a sequence of values when iterated over.Generators are useful when we want to produce a large sequence of values, but we don't want to store all of them in memory at once."
   ]
  },
  {
   "cell_type": "markdown",
   "id": "cf81ddf0",
   "metadata": {},
   "source": [
    "### Now let us write a function that will generate the sqaure of all the number form the list using generator function. "
   ]
  },
  {
   "cell_type": "code",
   "execution_count": 18,
   "id": "528beb3b",
   "metadata": {},
   "outputs": [
    {
     "name": "stdout",
     "output_type": "stream",
     "text": [
      "The square number is  144 169 576 1936 "
     ]
    }
   ],
   "source": [
    "def generate_square(number_list):\n",
    "    for number in number_list:\n",
    "        yield number * number\n",
    "number_list = [12, 13, 24, 44]\n",
    "print(\"The square number is \", end = \" \")\n",
    "for value in generate_square(number_list):\n",
    "    print(value, end = \" \")"
   ]
  },
  {
   "cell_type": "markdown",
   "id": "93d614e7",
   "metadata": {},
   "source": [
    "## Pipelining Generators\n",
    "\n",
    "### Multiple generators can be used to pipeline a series of operations."
   ]
  },
  {
   "cell_type": "code",
   "execution_count": 24,
   "id": "1b37fb66",
   "metadata": {},
   "outputs": [
    {
     "name": "stdout",
     "output_type": "stream",
     "text": [
      "4895\n"
     ]
    }
   ],
   "source": [
    "def fibonacci_numbers(nums):\n",
    "    x, y = 0, 1\n",
    "    for _ in range(nums):\n",
    "        x, y = y, x+y\n",
    "        yield x\n",
    "\n",
    "def square(nums):\n",
    "    for num in nums:\n",
    "        yield num**2\n",
    "\n",
    "print(sum(square(fibonacci_numbers(10))))\n"
   ]
  },
  {
   "cell_type": "markdown",
   "id": "1e61aa00",
   "metadata": {},
   "source": [
    "### Using pyhton generator expression and pipelining to generate sequenc of number "
   ]
  },
  {
   "cell_type": "code",
   "execution_count": 50,
   "id": "ee01fc37",
   "metadata": {},
   "outputs": [
    {
     "name": "stdout",
     "output_type": "stream",
     "text": [
      "['1-2', '4-4', '8-10']\n"
     ]
    },
    {
     "data": {
      "text/plain": [
       "[1, 2]"
      ]
     },
     "execution_count": 50,
     "metadata": {},
     "output_type": "execute_result"
    }
   ],
   "source": [
    "def get_ranges(string):\n",
    "    print(string.split(\",\"))\n",
    "    for part in string.split(\",\"):\n",
    "        return [int(number) for number in part.split(\"-\")] ## her ewe used the loop and we can see the loop not being execited\n",
    "                                                           ## till the last range *-10 \n",
    "## Now we will solve the similar approach using the generator and its pipeline      \n",
    "get_ranges(\"1-2,4-4,8-10\")"
   ]
  },
  {
   "cell_type": "code",
   "execution_count": 102,
   "id": "c3d2ae3b",
   "metadata": {},
   "outputs": [],
   "source": [
    "def get_ranges(string):\n",
    "    for part in string.split(\",\"):\n",
    "        yield [int(number) for number in part.split(\"-\")] ## use of list comprehension\n",
    "        "
   ]
  },
  {
   "cell_type": "code",
   "execution_count": 103,
   "id": "5bc35251",
   "metadata": {},
   "outputs": [],
   "source": [
    "values = get_ranges(\"1-2,4-4,8-10\")"
   ]
  },
  {
   "cell_type": "code",
   "execution_count": 104,
   "id": "6a59a5e8",
   "metadata": {},
   "outputs": [
    {
     "name": "stdout",
     "output_type": "stream",
     "text": [
      "[1, 2]\n",
      "[4, 4]\n",
      "[8, 10]\n"
     ]
    }
   ],
   "source": [
    "print(next(values))\n",
    "print(next(values))\n",
    "print(next(values))\n"
   ]
  },
  {
   "cell_type": "markdown",
   "id": "bd79b6d9",
   "metadata": {},
   "source": [
    "### Now we will use generator expression and pipeline to calculate the range of the string  "
   ]
  },
  {
   "cell_type": "code",
   "execution_count": 147,
   "id": "cd5c4366",
   "metadata": {},
   "outputs": [],
   "source": [
    "def get_ranges_number(number):\n",
    "    for start, stop in number:\n",
    "        print(\"The number between ranges are:\")\n",
    "        yield from range(start, stop + 1)\n",
    "    "
   ]
  },
  {
   "cell_type": "code",
   "execution_count": 148,
   "id": "10cef2de",
   "metadata": {},
   "outputs": [
    {
     "name": "stdout",
     "output_type": "stream",
     "text": [
      "<generator object get_ranges_number at 0x0000020F9CD9B510>\n"
     ]
    }
   ],
   "source": [
    "print(get_ranges_number(get_ranges(\"1-2,4-4,8-10\")))\n"
   ]
  },
  {
   "cell_type": "code",
   "execution_count": 149,
   "id": "0b4afffb",
   "metadata": {},
   "outputs": [
    {
     "name": "stdout",
     "output_type": "stream",
     "text": [
      "The number between ranges are:\n",
      "1\n",
      "2\n",
      "The number between ranges are:\n",
      "4\n",
      "The number between ranges are:\n",
      "8\n",
      "9\n",
      "10\n"
     ]
    }
   ],
   "source": [
    "for values in get_ranges_number(get_ranges(\"1-2,4-4,8-10\")):\n",
    "    print(values)"
   ]
  },
  {
   "cell_type": "markdown",
   "id": "44ab7fc8",
   "metadata": {},
   "source": [
    "# Module 12: Comprehensions\n"
   ]
  },
  {
   "cell_type": "markdown",
   "id": "d7bb0e55",
   "metadata": {},
   "source": [
    "## List comprehension "
   ]
  },
  {
   "cell_type": "markdown",
   "id": "0ad0e932",
   "metadata": {},
   "source": [
    "### We have already completed standard list comprehension and conditional list comprehension now we will show the example of nested for loop list comprehension."
   ]
  },
  {
   "cell_type": "code",
   "execution_count": 150,
   "id": "72f37690",
   "metadata": {},
   "outputs": [],
   "source": [
    "job_role_position = [\n",
    "    ['Aayush Dip Giri', 'Aayan Dip Giri', 'Adish Bharati'],\n",
    "    [\"Python Developer\", \"Java Developer\", \".Net Developer\"],\n",
    "    [\"Software Engineer I\", \"Software Engineer II\", \"Intern\"]\n",
    "    ]\n",
    "individial_personal_detail = [[person[i] for person in job_role_position] for i in range(3)]"
   ]
  },
  {
   "cell_type": "code",
   "execution_count": 152,
   "id": "b693b744",
   "metadata": {},
   "outputs": [
    {
     "name": "stdout",
     "output_type": "stream",
     "text": [
      "[['Aayush Dip Giri', 'Python Developer', 'Software Engineer I'], ['Aayan Dip Giri', 'Java Developer', 'Software Engineer II'], ['Adish Bharati', '.Net Developer', 'Intern']]\n"
     ]
    }
   ],
   "source": [
    "print(individial_personal_detail)"
   ]
  },
  {
   "cell_type": "code",
   "execution_count": 153,
   "id": "b532f7d4",
   "metadata": {},
   "outputs": [
    {
     "name": "stdout",
     "output_type": "stream",
     "text": [
      "Aayush Dip Giri is a Python Developer and his position is Software Engineer I\n",
      "Aayan Dip Giri is a Java Developer and his position is Software Engineer II\n",
      "Adish Bharati is a .Net Developer and his position is Intern\n"
     ]
    }
   ],
   "source": [
    "for individual in individial_personal_detail:\n",
    "    print(\"{} is a {} and his position is {}\". format(individual[0], individual[1], individual[2]))"
   ]
  },
  {
   "cell_type": "markdown",
   "id": "f9f74879",
   "metadata": {},
   "source": [
    "## Set Comprehension "
   ]
  },
  {
   "cell_type": "markdown",
   "id": "8b94372a",
   "metadata": {},
   "source": [
    "### we can use the above example to show the set comprehension as well\n"
   ]
  },
  {
   "cell_type": "code",
   "execution_count": 164,
   "id": "c49081be",
   "metadata": {},
   "outputs": [],
   "source": [
    "job_role_position_set = {'Aayush Dip Giri', 'Aayan Dip Giri', 'Adish Bharati',\n",
    "                         \"Python Developer\", \"Java Developer\", \".Net Developer\"}\n",
    "individial_personal_detail = {person for person in job_role_position_set if \"Dip\" in person}"
   ]
  },
  {
   "cell_type": "markdown",
   "id": "4221f5d5",
   "metadata": {},
   "source": [
    "### Here we are using set comprehension to select all that name which contains middile name \"Dip\" "
   ]
  },
  {
   "cell_type": "code",
   "execution_count": 165,
   "id": "c0cb931d",
   "metadata": {},
   "outputs": [
    {
     "name": "stdout",
     "output_type": "stream",
     "text": [
      "{'Aayush Dip Giri', 'Aayan Dip Giri'}\n"
     ]
    }
   ],
   "source": [
    "print(individial_personal_detail)"
   ]
  },
  {
   "cell_type": "markdown",
   "id": "72100f83",
   "metadata": {},
   "source": [
    "## Dictionary Comprehension "
   ]
  },
  {
   "cell_type": "markdown",
   "id": "bb8ea04b",
   "metadata": {},
   "source": [
    "### Basic dictionary comprehension"
   ]
  },
  {
   "cell_type": "code",
   "execution_count": 167,
   "id": "6397834b",
   "metadata": {},
   "outputs": [
    {
     "name": "stdout",
     "output_type": "stream",
     "text": [
      "{'milk': 130.56, 'coffee': 320.0, 'bread': 320.0}\n"
     ]
    }
   ],
   "source": [
    "#item price in dollars\n",
    "old_price = {'milk': 1.02, 'coffee': 2.5, 'bread': 2.5}\n",
    "\n",
    "dollar_to_npr = 128\n",
    "new_price = {item: value*dollar_to_npr for (item, value) in old_price.items()}\n",
    "print(new_price)"
   ]
  },
  {
   "cell_type": "markdown",
   "id": "5eb3a72d",
   "metadata": {},
   "source": [
    "## Using nested if else statement in dictionary comprehension "
   ]
  },
  {
   "cell_type": "code",
   "execution_count": 225,
   "id": "7580a103",
   "metadata": {},
   "outputs": [],
   "source": [
    "name_with_age = {\n",
    "    \"Aayush Dip Giri\" :{\"Age\" : 23, \"Sex\" : \"male\"},\n",
    "    \"Aayan Dip Giri\" : {\"Age\" : 12, \"Sex\" : \"male\"},\n",
    "    \"Adish Bharati\" : {\"Age\" : 28, \"Sex\" : \"male\"},\n",
    "    \"Dikshya Giri\" : {\"Age\" : 24, \"Sex\" : \"female\"}\n",
    "}"
   ]
  },
  {
   "cell_type": "markdown",
   "id": "13f54844",
   "metadata": {},
   "source": [
    "### Now we will write a list comrehension of that show the age less  25 and sex female"
   ]
  },
  {
   "cell_type": "markdown",
   "id": "dd9ecf40",
   "metadata": {},
   "source": [
    "### Using nested if  "
   ]
  },
  {
   "cell_type": "code",
   "execution_count": 238,
   "id": "5d6e329f",
   "metadata": {},
   "outputs": [],
   "source": [
    "female_with_age_25 = { k:v for (k,v) in name_with_age.items() if v['Age'] < 25 if v['Sex'] == 'female' }"
   ]
  },
  {
   "cell_type": "code",
   "execution_count": 239,
   "id": "f657b20e",
   "metadata": {},
   "outputs": [
    {
     "name": "stdout",
     "output_type": "stream",
     "text": [
      "{'Dikshya Giri': {'Age': 24, 'Sex': 'female'}}\n"
     ]
    }
   ],
   "source": [
    "print(female_with_age_25)"
   ]
  },
  {
   "cell_type": "markdown",
   "id": "d158eae0",
   "metadata": {},
   "source": [
    "### Now we will write a list comrehension of that show the age greater than  25 and sex male"
   ]
  },
  {
   "cell_type": "code",
   "execution_count": 240,
   "id": "18d26911",
   "metadata": {},
   "outputs": [],
   "source": [
    " male_with_age_25 = { k:v['Age'] for (k,v) in name_with_age.items() if v['Age'] > 25 and v['Sex'] == 'male' }"
   ]
  },
  {
   "cell_type": "code",
   "execution_count": 241,
   "id": "26237f19",
   "metadata": {},
   "outputs": [
    {
     "name": "stdout",
     "output_type": "stream",
     "text": [
      "{'Adish Bharati': 28}\n"
     ]
    }
   ],
   "source": [
    "print(male_with_age_25)"
   ]
  },
  {
   "cell_type": "markdown",
   "id": "9fe2682f",
   "metadata": {},
   "source": [
    "## Generator comprehension\n",
    "\n",
    "### The Generator Expression allows us to create a generator without the yield keyword.\n",
    "\n",
    "### Basic Example "
   ]
  },
  {
   "cell_type": "code",
   "execution_count": 245,
   "id": "93c49a47",
   "metadata": {},
   "outputs": [
    {
     "name": "stdout",
     "output_type": "stream",
     "text": [
      "<generator object <genexpr> at 0x0000020F9CA57660>\n",
      "0\n",
      "2\n",
      "4\n",
      "6\n"
     ]
    }
   ],
   "source": [
    "# Generator Expression\n",
    "generator_expression = (i for i in range(11) if i % 2 == 0)\n",
    "  \n",
    "print(generator_expression)\n",
    "print(next(generator_expression))\n",
    "print(next(generator_expression))\n",
    "print(next(generator_expression))\n",
    "print(next(generator_expression))"
   ]
  },
  {
   "cell_type": "markdown",
   "id": "09566a57",
   "metadata": {},
   "source": [
    "### The basic difference is that we use small parenthesis instead of square bracket to define the generator expression and its comprehension.\n",
    "\n",
    "### The execution speed is really fast as it uses less memory for the computation \n",
    "### we can see from the example of list and generator comprehension below"
   ]
  },
  {
   "cell_type": "code",
   "execution_count": 248,
   "id": "91472bc1",
   "metadata": {},
   "outputs": [
    {
     "name": "stdout",
     "output_type": "stream",
     "text": [
      "14.35774390000006\n"
     ]
    }
   ],
   "source": [
    "#List Comprehension:\n",
    "import timeit\n",
    "\n",
    "print(timeit.timeit('''list_com = [i for i in range(100) if i % 2 == 0]''', number=1000000))\n"
   ]
  },
  {
   "cell_type": "code",
   "execution_count": 250,
   "id": "8bad9592",
   "metadata": {},
   "outputs": [
    {
     "name": "stdout",
     "output_type": "stream",
     "text": [
      "0.9778060000007827\n"
     ]
    }
   ],
   "source": [
    "#Generator Comprehension\n",
    "print(timeit.timeit('''gen_exp = (i for i in range(100) if i % 2 == 0)''', number=1000000))\n"
   ]
  },
  {
   "cell_type": "markdown",
   "id": "0fcf74f8",
   "metadata": {},
   "source": [
    "### We can see the significant amount of difference in the executuion of the comprehension in list and generator "
   ]
  },
  {
   "cell_type": "markdown",
   "id": "ba1620e8",
   "metadata": {},
   "source": [
    "## Nested Comprehension \n",
    "### Nested Dictionary Comprehension"
   ]
  },
  {
   "cell_type": "code",
   "execution_count": 252,
   "id": "a0aed69d",
   "metadata": {},
   "outputs": [
    {
     "name": "stdout",
     "output_type": "stream",
     "text": [
      "{'Adish Bharati': 28}\n"
     ]
    }
   ],
   "source": [
    "name_with_age = {\n",
    "    \"Aayush Dip Giri\" :{\"Age\" : 23, \"Sex\" : \"male\"},\n",
    "    \"Aayan Dip Giri\" : {\"Age\" : 12, \"Sex\" : \"male\"},\n",
    "    \"Adish Bharati\" : {\"Age\" : 28, \"Sex\" : \"male\"},\n",
    "    \"Dikshya Giri\" : {\"Age\" : 24, \"Sex\" : \"female\"}\n",
    "}\n",
    "male_with_age_25 = { k:v['Age'] for (k,v) in name_with_age.items() if v['Age'] > 25 and v['Sex'] == 'male' }\n",
    "print(male_with_age_25)"
   ]
  },
  {
   "cell_type": "markdown",
   "id": "e3dc346a",
   "metadata": {},
   "source": [
    "### Nested list comprehension "
   ]
  },
  {
   "cell_type": "code",
   "execution_count": 253,
   "id": "78d098db",
   "metadata": {},
   "outputs": [],
   "source": [
    "job_role_position = [\n",
    "    ['Aayush Dip Giri', 'Aayan Dip Giri', 'Adish Bharati'],\n",
    "    [\"Python Developer\", \"Java Developer\", \".Net Developer\"],\n",
    "    [\"Software Engineer I\", \"Software Engineer II\", \"Intern\"]\n",
    "    ]\n",
    "individial_personal_detail = [[person[i] for person in job_role_position] for i in range(3)]"
   ]
  },
  {
   "cell_type": "code",
   "execution_count": 255,
   "id": "df01b540",
   "metadata": {},
   "outputs": [
    {
     "name": "stdout",
     "output_type": "stream",
     "text": [
      "[['Aayush Dip Giri', 'Python Developer', 'Software Engineer I'], ['Aayan Dip Giri', 'Java Developer', 'Software Engineer II'], ['Adish Bharati', '.Net Developer', 'Intern']]\n"
     ]
    }
   ],
   "source": [
    "print(individial_personal_detail)"
   ]
  },
  {
   "cell_type": "code",
   "execution_count": null,
   "id": "0d93322d",
   "metadata": {},
   "outputs": [],
   "source": []
  }
 ],
 "metadata": {
  "kernelspec": {
   "display_name": "Python 3 (ipykernel)",
   "language": "python",
   "name": "python3"
  },
  "language_info": {
   "codemirror_mode": {
    "name": "ipython",
    "version": 3
   },
   "file_extension": ".py",
   "mimetype": "text/x-python",
   "name": "python",
   "nbconvert_exporter": "python",
   "pygments_lexer": "ipython3",
   "version": "3.9.5"
  }
 },
 "nbformat": 4,
 "nbformat_minor": 5
}
