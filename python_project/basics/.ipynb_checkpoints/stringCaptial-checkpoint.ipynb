{
 "cells": [
  {
   "cell_type": "code",
   "execution_count": 11,
   "id": "cf75558d",
   "metadata": {},
   "outputs": [
    {
     "name": "stdout",
     "output_type": "stream",
     "text": [
      "Enter your Name : My name is Aayush Dip Giri\n"
     ]
    }
   ],
   "source": [
    "your_Name= input(\"Enter your Name : \")"
   ]
  },
  {
   "cell_type": "code",
   "execution_count": 12,
   "id": "2f3df770",
   "metadata": {},
   "outputs": [],
   "source": [
    "your_Namelist=(your_Name.lower()).split()"
   ]
  },
  {
   "cell_type": "code",
   "execution_count": 13,
   "id": "c6f33e2c",
   "metadata": {},
   "outputs": [
    {
     "name": "stdout",
     "output_type": "stream",
     "text": [
      "['my', 'name', 'is', 'aayush', 'dip', 'giri']\n"
     ]
    }
   ],
   "source": [
    "print(your_Namelist)"
   ]
  },
  {
   "cell_type": "code",
   "execution_count": 25,
   "id": "19b51905",
   "metadata": {},
   "outputs": [],
   "source": [
    "for value in your_Namelist:\n",
    "    new_value = value[0].upper() + value[1:-1] + value[-1].upper()+ \" \"\n",
    "    your_NamE = new_value + \" \"\n",
    "    \n"
   ]
  },
  {
   "cell_type": "code",
   "execution_count": 26,
   "id": "c58ba25f",
   "metadata": {},
   "outputs": [
    {
     "name": "stdout",
     "output_type": "stream",
     "text": [
      "GirI \n"
     ]
    }
   ],
   "source": [
    "print(new_value)"
   ]
  },
  {
   "cell_type": "code",
   "execution_count": null,
   "id": "5131ef51",
   "metadata": {},
   "outputs": [],
   "source": []
  }
 ],
 "metadata": {
  "kernelspec": {
   "display_name": "Python 3 (ipykernel)",
   "language": "python",
   "name": "python3"
  },
  "language_info": {
   "codemirror_mode": {
    "name": "ipython",
    "version": 3
   },
   "file_extension": ".py",
   "mimetype": "text/x-python",
   "name": "python",
   "nbconvert_exporter": "python",
   "pygments_lexer": "ipython3",
   "version": "3.9.5"
  }
 },
 "nbformat": 4,
 "nbformat_minor": 5
}
