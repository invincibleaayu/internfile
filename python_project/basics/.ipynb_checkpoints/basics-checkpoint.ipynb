{
 "cells": [
  {
   "cell_type": "markdown",
   "id": "9088f69c",
   "metadata": {},
   "source": [
    "# Writing program for module 3 and 4 "
   ]
  },
  {
   "cell_type": "code",
   "execution_count": 1,
   "id": "0788450d",
   "metadata": {},
   "outputs": [
    {
     "name": "stdout",
     "output_type": "stream",
     "text": [
      "Please enter the number you want to print:1\n"
     ]
    }
   ],
   "source": [
    "your_input = input(\"Please enter the number you want to print:\")"
   ]
  },
  {
   "cell_type": "code",
   "execution_count": 2,
   "id": "381bc3c7",
   "metadata": {},
   "outputs": [
    {
     "name": "stdout",
     "output_type": "stream",
     "text": [
      "<class 'str'>\n"
     ]
    }
   ],
   "source": [
    "print(type(your_input))"
   ]
  },
  {
   "cell_type": "code",
   "execution_count": 3,
   "id": "55991116",
   "metadata": {},
   "outputs": [
    {
     "name": "stdout",
     "output_type": "stream",
     "text": [
      "<class 'float'>\n"
     ]
    }
   ],
   "source": [
    "print(type(float(your_input)))"
   ]
  },
  {
   "cell_type": "code",
   "execution_count": 4,
   "id": "746e4a6f",
   "metadata": {},
   "outputs": [],
   "source": [
    "converted_your_input = int(your_input)"
   ]
  },
  {
   "cell_type": "code",
   "execution_count": 5,
   "id": "ac8971fa",
   "metadata": {},
   "outputs": [
    {
     "name": "stdout",
     "output_type": "stream",
     "text": [
      "<class 'int'>\n"
     ]
    }
   ],
   "source": [
    "print(type(converted_your_input))"
   ]
  },
  {
   "cell_type": "markdown",
   "id": "55c0f2f4",
   "metadata": {},
   "source": [
    "Here we have taken the user input which is by default a string and we converted the input to the interger format using typecasting. We have used printed both imput type using python default type() method "
   ]
  },
  {
   "cell_type": "markdown",
   "id": "aa553011",
   "metadata": {},
   "source": [
    "We are now going to perform the urnary operations "
   ]
  },
  {
   "cell_type": "code",
   "execution_count": 6,
   "id": "b8fc0f0e",
   "metadata": {},
   "outputs": [],
   "source": [
    "converted_your_input += 1"
   ]
  },
  {
   "cell_type": "code",
   "execution_count": 7,
   "id": "30e64ef1",
   "metadata": {},
   "outputs": [
    {
     "name": "stdout",
     "output_type": "stream",
     "text": [
      "2\n"
     ]
    }
   ],
   "source": [
    "print(converted_your_input)"
   ]
  },
  {
   "cell_type": "code",
   "execution_count": 8,
   "id": "41ff9e55",
   "metadata": {},
   "outputs": [],
   "source": [
    "new_value = converted_your_input+(converted_your_input*converted_your_input)-converted_your_input"
   ]
  },
  {
   "cell_type": "code",
   "execution_count": 9,
   "id": "ecf0f585",
   "metadata": {},
   "outputs": [
    {
     "name": "stdout",
     "output_type": "stream",
     "text": [
      "4\n"
     ]
    }
   ],
   "source": [
    "print(new_value)"
   ]
  },
  {
   "cell_type": "markdown",
   "id": "53cc4c67",
   "metadata": {},
   "source": [
    "Here we can see the operator precedence"
   ]
  },
  {
   "cell_type": "markdown",
   "id": "f9b1388b",
   "metadata": {},
   "source": [
    "# We are writing program for modulde 3\n",
    "\n"
   ]
  },
  {
   "cell_type": "markdown",
   "id": "649f04c4",
   "metadata": {},
   "source": [
    "we are starting the concept with slicing"
   ]
  },
  {
   "cell_type": "code",
   "execution_count": 10,
   "id": "5e63f537",
   "metadata": {},
   "outputs": [
    {
     "name": "stdout",
     "output_type": "stream",
     "text": [
      "Please enter your name \tAayush Dip Giri\n"
     ]
    }
   ],
   "source": [
    "my_name = input(\"Please enter your name \\t\")"
   ]
  },
  {
   "cell_type": "code",
   "execution_count": 11,
   "id": "fc5574dd",
   "metadata": {},
   "outputs": [
    {
     "data": {
      "text/plain": [
       "'iriG piD hsuyaA'"
      ]
     },
     "execution_count": 11,
     "metadata": {},
     "output_type": "execute_result"
    }
   ],
   "source": [
    "my_name[::-1] ##reversing the list"
   ]
  },
  {
   "cell_type": "code",
   "execution_count": 12,
   "id": "5c337721",
   "metadata": {},
   "outputs": [
    {
     "data": {
      "text/plain": [
       "'Aayush'"
      ]
     },
     "execution_count": 12,
     "metadata": {},
     "output_type": "execute_result"
    }
   ],
   "source": [
    "my_name[:6]    ## taking the first name only "
   ]
  },
  {
   "cell_type": "code",
   "execution_count": 13,
   "id": "6c89f339",
   "metadata": {},
   "outputs": [
    {
     "data": {
      "text/plain": [
       "'Dip'"
      ]
     },
     "execution_count": 13,
     "metadata": {},
     "output_type": "execute_result"
    }
   ],
   "source": [
    "my_name[7:10]  ## taking middle name only"
   ]
  },
  {
   "cell_type": "code",
   "execution_count": 14,
   "id": "27e29265",
   "metadata": {},
   "outputs": [
    {
     "data": {
      "text/plain": [
       "'Giri'"
      ]
     },
     "execution_count": 14,
     "metadata": {},
     "output_type": "execute_result"
    }
   ],
   "source": [
    "my_name[-4:]  ## taking the last name only"
   ]
  },
  {
   "cell_type": "code",
   "execution_count": 15,
   "id": "6a5b459c",
   "metadata": {},
   "outputs": [],
   "source": [
    "## We can convert the string to list using list function"
   ]
  },
  {
   "cell_type": "code",
   "execution_count": 16,
   "id": "f2ef7779",
   "metadata": {},
   "outputs": [],
   "source": [
    "my_name_list = list(my_name)"
   ]
  },
  {
   "cell_type": "code",
   "execution_count": 17,
   "id": "21a9e79f",
   "metadata": {},
   "outputs": [
    {
     "data": {
      "text/plain": [
       "['A', 'a', 'y', 'u', 's', 'h', ' ', 'D', 'i', 'p', ' ', 'G', 'i', 'r', 'i']"
      ]
     },
     "execution_count": 17,
     "metadata": {},
     "output_type": "execute_result"
    }
   ],
   "source": [
    "my_name_list"
   ]
  },
  {
   "cell_type": "code",
   "execution_count": 18,
   "id": "900e9919",
   "metadata": {},
   "outputs": [],
   "source": [
    "my_name_list.append(\"value\")"
   ]
  },
  {
   "cell_type": "code",
   "execution_count": 28,
   "id": "7015257d",
   "metadata": {},
   "outputs": [
    {
     "name": "stdout",
     "output_type": "stream",
     "text": [
      "['A', 'a', 'y', 'u', 's', 'h', ' ', 'D', 'i', 'p', ' ', 'G', 'i', 'r', 'i', 'value']\n"
     ]
    }
   ],
   "source": [
    "print(my_name_list)"
   ]
  },
  {
   "cell_type": "code",
   "execution_count": 20,
   "id": "7d46d02b",
   "metadata": {},
   "outputs": [],
   "source": [
    "my_name_list.insert(1,\"value1\") ## inserting value at position "
   ]
  },
  {
   "cell_type": "code",
   "execution_count": 21,
   "id": "b76348a6",
   "metadata": {},
   "outputs": [
    {
     "name": "stdout",
     "output_type": "stream",
     "text": [
      "['A', 'value1', 'a', 'y', 'u', 's', 'h', ' ', 'D', 'i', 'p', ' ', 'G', 'i', 'r', 'i', 'value']\n"
     ]
    }
   ],
   "source": [
    "print(my_name_list)"
   ]
  },
  {
   "cell_type": "code",
   "execution_count": 22,
   "id": "2b98e156",
   "metadata": {},
   "outputs": [
    {
     "data": {
      "text/plain": [
       "'value1'"
      ]
     },
     "execution_count": 22,
     "metadata": {},
     "output_type": "execute_result"
    }
   ],
   "source": [
    "my_name_list.pop(1)"
   ]
  },
  {
   "cell_type": "markdown",
   "id": "9eab52dd",
   "metadata": {},
   "source": [
    "Here in the above code we have performed the concept of slicing and typecasted the string your_name to list. In that list we have performed the list function application. The function like append, insert and pop are used in the program."
   ]
  },
  {
   "cell_type": "code",
   "execution_count": 43,
   "id": "5d6e7397",
   "metadata": {},
   "outputs": [
    {
     "name": "stdout",
     "output_type": "stream",
     "text": [
      "['A', 'a', 'y', 'u', 's', 'h', ' ', 'D', 'i', 'p', ' ', 'G', 'i', 'r', 'i', 'value']\n"
     ]
    }
   ],
   "source": [
    "print(my_name_list)  ## Here we have popped the element at position 1\n"
   ]
  },
  {
   "cell_type": "code",
   "execution_count": 44,
   "id": "2e357189",
   "metadata": {},
   "outputs": [],
   "source": [
    "## Now we are going to write a program to create a list of list"
   ]
  },
  {
   "cell_type": "code",
   "execution_count": 70,
   "id": "cc72ca96",
   "metadata": {},
   "outputs": [],
   "source": [
    "new_list = []\n",
    "temp_list = []\n",
    "for element in my_name_list:\n",
    "    if element != ' ':\n",
    "        temp_list.append(element)\n",
    "    else:\n",
    "        new_list.append(temp_list)\n",
    "        temp_list = []\n",
    "        \n",
    "new_list.append(temp_list)"
   ]
  },
  {
   "cell_type": "code",
   "execution_count": 64,
   "id": "0f29ea40",
   "metadata": {},
   "outputs": [
    {
     "name": "stdout",
     "output_type": "stream",
     "text": [
      "[['A', 'a', 'y', 'u', 's', 'h'], ['D', 'i', 'p'], ['G', 'i', 'r', 'i', 'value']]\n"
     ]
    }
   ],
   "source": [
    "print(new_list)"
   ]
  },
  {
   "cell_type": "code",
   "execution_count": 65,
   "id": "caa11415",
   "metadata": {},
   "outputs": [],
   "source": [
    "## Now we will write a program to access element of the list of list"
   ]
  },
  {
   "cell_type": "code",
   "execution_count": 69,
   "id": "71db6f0d",
   "metadata": {},
   "outputs": [
    {
     "name": "stdout",
     "output_type": "stream",
     "text": [
      "value\n"
     ]
    }
   ],
   "source": [
    "print(new_list[2][4]) ## accessing the last value of list of list of third index ie \"Value\""
   ]
  },
  {
   "cell_type": "code",
   "execution_count": 71,
   "id": "11cd6cbe",
   "metadata": {},
   "outputs": [],
   "source": [
    "## Now we will learn about the dictionary and tuples"
   ]
  },
  {
   "cell_type": "code",
   "execution_count": 72,
   "id": "1fffa9db",
   "metadata": {},
   "outputs": [],
   "source": [
    "## The main difference between list and tuple is that tuple is immutable where as list is mutable "
   ]
  },
  {
   "cell_type": "code",
   "execution_count": 75,
   "id": "1829366b",
   "metadata": {},
   "outputs": [],
   "source": [
    "new_tuple = tuple(new_list[0])"
   ]
  },
  {
   "cell_type": "code",
   "execution_count": 81,
   "id": "dfbd3c25",
   "metadata": {},
   "outputs": [
    {
     "name": "stdout",
     "output_type": "stream",
     "text": [
      "('A', 'a', 'y', 'u', 's', 'h')\n"
     ]
    }
   ],
   "source": [
    "\n",
    "print (new_tuple)"
   ]
  },
  {
   "cell_type": "code",
   "execution_count": 82,
   "id": "4c6e9e3a",
   "metadata": {},
   "outputs": [
    {
     "name": "stdout",
     "output_type": "stream",
     "text": [
      "Attribute error occoured\n",
      "Tuble object is Immutable\n"
     ]
    }
   ],
   "source": [
    "## Using exceptional handling to show that the tuple object is Immutable \n",
    "try:\n",
    "    new_tuple.pop(1)\n",
    "except AttributeError:\n",
    "    print(\"Attribute error occoured\")\n",
    "    print(\"Tuble object is Immutable\")"
   ]
  },
  {
   "cell_type": "code",
   "execution_count": 83,
   "id": "508609ce",
   "metadata": {},
   "outputs": [],
   "source": [
    "## Now we will study about the dictionary"
   ]
  },
  {
   "cell_type": "code",
   "execution_count": null,
   "id": "9f1b6717",
   "metadata": {},
   "outputs": [],
   "source": []
  }
 ],
 "metadata": {
  "kernelspec": {
   "display_name": "Python 3 (ipykernel)",
   "language": "python",
   "name": "python3"
  },
  "language_info": {
   "codemirror_mode": {
    "name": "ipython",
    "version": 3
   },
   "file_extension": ".py",
   "mimetype": "text/x-python",
   "name": "python",
   "nbconvert_exporter": "python",
   "pygments_lexer": "ipython3",
   "version": "3.9.5"
  }
 },
 "nbformat": 4,
 "nbformat_minor": 5
}
